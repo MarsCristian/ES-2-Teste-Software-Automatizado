{
 "cells": [
  {
   "attachments": {},
   "cell_type": "markdown",
   "metadata": {},
   "source": [
    "# Teste do Software de um formulário em um site"
   ]
  },
  {
   "attachments": {},
   "cell_type": "markdown",
   "metadata": {},
   "source": [
    "## Planejamento\n",
    "- risco: baixo, risco de insersao de tuplas no BD\n",
    "- recursos: selenium webdriver, python notebook, oraculo\n",
    "- ambiente: ipynb, github, chrome, website: https://itera-qa.azurewebsites.net/home/automation\n",
    "- criterio de parada: o codigo passar em todos os testes, nao havendo tuplas problemáticas\n",
    "- resultados esperados: esperamos, como relatado da equipe de desenvolvimento, problemas da verificação do formulário\n",
    "    \n"
   ]
  },
  {
   "cell_type": "code",
   "execution_count": 1,
   "metadata": {},
   "outputs": [],
   "source": [
    "from selenium import webdriver #para abrir navegador\n",
    "from selenium.webdriver.common.by import By #para buscar elementos html por ID\n",
    "from selenium.webdriver.support.ui import WebDriverWait #para esperar a conexao\n",
    "from selenium.webdriver.support import expected_conditions as EC #para verificar possiveis erros no front\n",
    "import time #sleep\n",
    "\n",
    "_url_site = 'https://itera-qa.azurewebsites.net/home/automation'\n",
    "\n",
    "_request = {\n",
    "    'nome':'',\n",
    "    'numero':'',\n",
    "    'email':'',\n",
    "    'senha':'',\n",
    "    'endereco':''\n",
    "}"
   ]
  },
  {
   "attachments": {},
   "cell_type": "markdown",
   "metadata": {},
   "source": [
    "## Projeto de casos de teste\n",
    "- definir cenários: cenário de erros na insercao e cenário de tentativa de invasão de conta, no formulário\n",
    "- implementar teste: será implementado em python, notebook, usando web-driver e salvando os resultados em csvs com o pandas\n",
    "- priorizar casos: priorizar casos de tentativa de invasão\n"
   ]
  },
  {
   "attachments": {},
   "cell_type": "markdown",
   "metadata": {},
   "source": [
    "### Tuplas que podem dar problemas\n",
    "Seguindo como o Software deve ser implementado os requisitos relacionados a este formulário são:\n",
    "- nome: 2 a 25 caracteres, letras e acentuacao permitido\n",
    "- telefone: permitidos seguintes estruturas (xx)xxxxx-xxxx, xxxxxxxxxxx\n",
    "- email: 8 a 25 caracteres xx@xx.xx\n",
    "- senha: 4 a 25 caracteres contendo pelo menos 1 numero 1 caractere especial 1 uppercase\n",
    "- endereco: 4 a 60 caracteres\n",
    "\n",
    "Criando funcoes que sao capazes de cherar casos de testes aleatorios"
   ]
  },
  {
   "cell_type": "code",
   "execution_count": 2,
   "metadata": {},
   "outputs": [],
   "source": [
    "#gerar tuplas que podem dar problema\n",
    "import re\n",
    "import os\n",
    "import string\n",
    "import random\n",
    "\n",
    "#baseado nos testes do Professor Paulo Matias\n",
    "def random_letters(n):\n",
    "    res = b''\n",
    "    while len(res) < n: \n",
    "        res += re.sub(br'[^a-z]', b'', os.urandom(512))\n",
    "    return str(res[:n])[2:-1]\n",
    "\n",
    "def random_numbers(length):\n",
    "    digits = string.digits\n",
    "    return ''.join(random.choice(digits) for _ in range(length))\n",
    "\n",
    "def random_special_characters_string(length):\n",
    "    special_characters = string.punctuation\n",
    "    return ''.join(random.choice(special_characters) for _ in range(length))\n",
    "\n",
    "def gerar_tupla_consistente():\n",
    "    _request['nome'] = random_letters(random.randint(2,25))\n",
    "    _request['numero'] = '('+random_numbers(2)+')'+random_numbers(5)+'-'+random_numbers(4)\n",
    "    _request['email'] = random_letters(random.randint(2,10))+'@'+random_letters(random.randint(2,10))+'.'+random_letters(3)\n",
    "    _request['senha'] = random_letters(random.randint(1,10))+random_numbers(random.randint(1,10))+random_special_characters_string(random.randint(1,5))\n",
    "    _request['endereco'] = random_letters(random.randint(4,60))\n",
    "\n"
   ]
  },
  {
   "cell_type": "code",
   "execution_count": 3,
   "metadata": {},
   "outputs": [
    {
     "name": "stdout",
     "output_type": "stream",
     "text": [
      "Formulário preenchido e enviado com sucesso!\n",
      "Dados Válidos, enviando ao Banco de Dados...\n"
     ]
    }
   ],
   "source": [
    "\n",
    "import Back_End_Simulator as BE\n",
    "\n",
    "validador = BE.Validador()\n",
    "# Configuração do WebDriver\n",
    "driver = webdriver.Chrome()  # Certifique-se de ter o ChromeDriver configurado e no PATH\n",
    "driver.get(_url_site)\n",
    "\n",
    "gerar_tupla_consistente()\n",
    "def Teste_De_Formulario():\n",
    "    try:\n",
    "        # Preencher o campo Name\n",
    "        \n",
    "        name_field = WebDriverWait(driver, 10).until(EC.presence_of_element_located((By.ID, 'name')))\n",
    "        \n",
    "        name_field.send_keys(_request['nome'])\n",
    "\n",
    "        #Preencher o campo Mobile number\n",
    "        mobile_field = WebDriverWait(driver, 10).until(EC.presence_of_element_located((By.ID, 'phone')))\n",
    "        mobile_field.send_keys(_request['numero'])\n",
    "\n",
    "        # Preencher o campo Email address\n",
    "        email_field = WebDriverWait(driver, 10).until(EC.presence_of_element_located((By.ID, 'email')))\n",
    "        email_field.send_keys( _request['email'])\n",
    "\n",
    "        # Preencher o campo Password\n",
    "        password_field = WebDriverWait(driver, 10).until(EC.presence_of_element_located((By.ID, 'password')))\n",
    "        password_field.send_keys(_request['senha'])\n",
    "\n",
    "        # Preencher o campo Address\n",
    "        address_field = WebDriverWait(driver, 10).until(EC.presence_of_element_located((By.ID, 'address')))\n",
    "        address_field.send_keys(_request['endereco'])\n",
    "\n",
    "        # Clicar no botão Submit\n",
    "        submit_button = WebDriverWait(driver, 10).until(EC.element_to_be_clickable((By.CSS_SELECTOR, 'button[type=\"submit\"]')))\n",
    "        time.sleep(0.01)\n",
    "        submit_button.click()\n",
    "\n",
    "        print('Formulário preenchido e enviado com sucesso!')\n",
    "        response = validador.validar_request(_request)\n",
    "        \n",
    "        return True,'Entrada Consistente'\n",
    "\n",
    "    except Exception as e:\n",
    "        print('Ocorreu um erro durante o preenchimento do formulário:', str(e))\n",
    "\n",
    "        return False,'Entrada Inconsistente',response\n",
    "\n",
    "    finally:\n",
    "        driver.quit()  # Fechar o navegador após a conclusão do teste\n"
   ]
  },
  {
   "attachments": {},
   "cell_type": "markdown",
   "metadata": {},
   "source": [
    "\n",
    "## Configuração de ambiente\n",
    "- teste do ambiente e ferramentas: configurar todas as ferramentas que serão usadas e deixar claro como usa-las\n"
   ]
  },
  {
   "cell_type": "code",
   "execution_count": null,
   "metadata": {},
   "outputs": [],
   "source": [
    "#certificar de usar o webdriver do chrome\n",
    "#coloca-lo no path\n",
    "#rodar todos os codigos acima, devem estar sem erros"
   ]
  },
  {
   "attachments": {},
   "cell_type": "markdown",
   "metadata": {},
   "source": [
    "\n",
    "## Execução e Avaliação\n",
    "- executar teste:\n",
    "- avaliar teste:\n"
   ]
  },
  {
   "attachments": {},
   "cell_type": "markdown",
   "metadata": {},
   "source": [
    "### Teste com entradas corretas e consistentes"
   ]
  },
  {
   "cell_type": "code",
   "execution_count": null,
   "metadata": {},
   "outputs": [],
   "source": [
    "#gerar entradas\n",
    "gerar_tupla_consistente()\n",
    "\n",
    "#testar o codigo\n",
    "resultado,resposta,lista_erro = Teste_De_Formulario()\n",
    "print(resposta)\n",
    "\n",
    "#nesse caso o oraculo eh que todos devem ser positivos, sem inconsistencias\n",
    "if not resultado:\n",
    "    print('Falhou no teste!')\n",
    "    print(lista_erro)"
   ]
  },
  {
   "attachments": {},
   "cell_type": "markdown",
   "metadata": {},
   "source": [
    "\n",
    "## Monitoramento e Controle\n",
    "- checar status:\n",
    "- verificar novos possíveis testes:\n",
    "- verificar se corrigiram o que estava errado:"
   ]
  },
  {
   "cell_type": "code",
   "execution_count": null,
   "metadata": {},
   "outputs": [],
   "source": []
  },
  {
   "attachments": {},
   "cell_type": "markdown",
   "metadata": {},
   "source": [
    "### Requirements"
   ]
  },
  {
   "cell_type": "code",
   "execution_count": null,
   "metadata": {},
   "outputs": [],
   "source": [
    "! pip install selenium"
   ]
  },
  {
   "attachments": {},
   "cell_type": "markdown",
   "metadata": {},
   "source": [
    "### Bibliotecas"
   ]
  },
  {
   "cell_type": "code",
   "execution_count": null,
   "metadata": {},
   "outputs": [],
   "source": [
    "from selenium import webdriver\n"
   ]
  },
  {
   "attachments": {},
   "cell_type": "markdown",
   "metadata": {},
   "source": [
    "### Web-Driver\n",
    "Lembre-se de colocar o path do executavel do driver"
   ]
  },
  {
   "cell_type": "code",
   "execution_count": null,
   "metadata": {},
   "outputs": [],
   "source": [
    "driver = webdriver.Chrome(executable_path=\"\")"
   ]
  },
  {
   "attachments": {},
   "cell_type": "markdown",
   "metadata": {},
   "source": []
  },
  {
   "attachments": {},
   "cell_type": "markdown",
   "metadata": {},
   "source": [
    "### Setup do Teste\n"
   ]
  },
  {
   "cell_type": "code",
   "execution_count": null,
   "metadata": {},
   "outputs": [],
   "source": [
    "Oraculo_dicionario = {}"
   ]
  },
  {
   "attachments": {},
   "cell_type": "markdown",
   "metadata": {},
   "source": [
    "## Casos de Teste"
   ]
  },
  {
   "attachments": {},
   "cell_type": "markdown",
   "metadata": {},
   "source": [
    "### Caso 1 - Login\n",
    "1) abrir browser\n",
    "2) abrir url\n",
    "3) preencher Username e Senha\n",
    "4) apertar login\n",
    "5) inspecionar se o título da página está correto\n",
    "6) fechar browser\n"
   ]
  },
  {
   "cell_type": "code",
   "execution_count": null,
   "metadata": {},
   "outputs": [],
   "source": []
  },
  {
   "attachments": {},
   "cell_type": "markdown",
   "metadata": {},
   "source": [
    "### Caso 2 - teste de credenciais invalidas"
   ]
  },
  {
   "cell_type": "code",
   "execution_count": null,
   "metadata": {},
   "outputs": [],
   "source": []
  }
 ],
 "metadata": {
  "kernelspec": {
   "display_name": "Python 3",
   "language": "python",
   "name": "python3"
  },
  "language_info": {
   "codemirror_mode": {
    "name": "ipython",
    "version": 3
   },
   "file_extension": ".py",
   "mimetype": "text/x-python",
   "name": "python",
   "nbconvert_exporter": "python",
   "pygments_lexer": "ipython3",
   "version": "3.11.1"
  },
  "orig_nbformat": 4
 },
 "nbformat": 4,
 "nbformat_minor": 2
}

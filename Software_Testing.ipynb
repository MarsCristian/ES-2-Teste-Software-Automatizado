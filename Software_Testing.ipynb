{
 "cells": [
  {
   "attachments": {},
   "cell_type": "markdown",
   "metadata": {},
   "source": [
    "# Teste do Software de um formulário em um site"
   ]
  },
  {
   "attachments": {},
   "cell_type": "markdown",
   "metadata": {},
   "source": [
    "## Planejamento\n",
    "- risco: baixo, risco de insersao de tuplas no BD\n",
    "- recursos: selenium webdriver, python notebook, oraculo\n",
    "- ambiente: ipynb, github, chrome\n",
    "- criterio de parada: o codigo passar em todos os testes, nao havendo tuplas problemáticas\n",
    "- resultados esperados: esperamos, como relatado da equipe de desenvolvimento, problemas da verificação do formulário\n",
    "    \n"
   ]
  },
  {
   "cell_type": "code",
   "execution_count": null,
   "metadata": {},
   "outputs": [],
   "source": []
  },
  {
   "attachments": {},
   "cell_type": "markdown",
   "metadata": {},
   "source": [
    "## Projeto de casos de teste\n",
    "- definir cenários: cenário de erros na insercao e cenário de tentativa de invasão de conta, no formulário\n",
    "- implementar teste: será implementado em python, notebook, usando web-driver e salvando os resultados em csvs com o pandas\n",
    "- priorizar casos: priorizar casos de tentativa de invasão\n"
   ]
  },
  {
   "cell_type": "code",
   "execution_count": 1,
   "metadata": {},
   "outputs": [
    {
     "name": "stdout",
     "output_type": "stream",
     "text": [
      "Formulário preenchido e enviado com sucesso!\n"
     ]
    }
   ],
   "source": [
    "from selenium import webdriver\n",
    "from selenium.webdriver.common.by import By\n",
    "from selenium.webdriver.support.ui import WebDriverWait\n",
    "from selenium.webdriver.support import expected_conditions as EC\n",
    "import time\n",
    "# Configuração do WebDriver\n",
    "driver = webdriver.Chrome()  # Certifique-se de ter o ChromeDriver configurado e no PATH\n",
    "driver.get('https://itera-qa.azurewebsites.net/home/automation')\n",
    "\n",
    "try:\n",
    "    # Preencher o campo Name\n",
    "    \n",
    "    name_field = WebDriverWait(driver, 10).until(EC.presence_of_element_located((By.ID, 'name')))\n",
    "    \n",
    "    name_field.send_keys('JohnDoe')\n",
    "\n",
    "    #Preencher o campo Mobile number\n",
    "    mobile_field = WebDriverWait(driver, 10).until(EC.presence_of_element_located((By.ID, 'phone')))\n",
    "    mobile_field.send_keys('(12) 34567890')\n",
    "\n",
    "    # Preencher o campo Email address\n",
    "    email_field = WebDriverWait(driver, 10).until(EC.presence_of_element_located((By.ID, 'email')))\n",
    "    email_field.send_keys('johndoe@example.com')\n",
    "\n",
    "    # Preencher o campo Password\n",
    "    password_field = WebDriverWait(driver, 10).until(EC.presence_of_element_located((By.ID, 'password')))\n",
    "    password_field.send_keys('password123')\n",
    "\n",
    "    # Preencher o campo Address\n",
    "    address_field = WebDriverWait(driver, 10).until(EC.presence_of_element_located((By.ID, 'address')))\n",
    "    address_field.send_keys('123 Main St')\n",
    "\n",
    "    # Clicar no botão Submit\n",
    "    submit_button = WebDriverWait(driver, 10).until(EC.element_to_be_clickable((By.CSS_SELECTOR, 'button[type=\"submit\"]')))\n",
    "    time.sleep(30)\n",
    "    submit_button.click()\n",
    "\n",
    "    print('Formulário preenchido e enviado com sucesso!')\n",
    "\n",
    "except Exception as e:\n",
    "    print('Ocorreu um erro durante o preenchimento do formulário:', str(e))\n",
    "\n",
    "finally:\n",
    "    driver.quit()  # Fechar o navegador após a conclusão do teste\n"
   ]
  },
  {
   "attachments": {},
   "cell_type": "markdown",
   "metadata": {},
   "source": [
    "\n",
    "## Configuração de ambiente\n",
    "- teste do ambiente e ferramentas: configurar todas as ferramentas que serão usadas e deixar claro como usa-las\n"
   ]
  },
  {
   "cell_type": "code",
   "execution_count": null,
   "metadata": {},
   "outputs": [],
   "source": []
  },
  {
   "attachments": {},
   "cell_type": "markdown",
   "metadata": {},
   "source": [
    "\n",
    "## Execução e Avaliação\n",
    "- executar teste:\n",
    "- avaliar teste:\n"
   ]
  },
  {
   "cell_type": "code",
   "execution_count": null,
   "metadata": {},
   "outputs": [],
   "source": []
  },
  {
   "attachments": {},
   "cell_type": "markdown",
   "metadata": {},
   "source": [
    "\n",
    "## Monitoramento e Controle\n",
    "- checar status:\n",
    "- verificar novos possíveis testes:\n",
    "- verificar se corrigiram o que estava errado:"
   ]
  },
  {
   "cell_type": "code",
   "execution_count": null,
   "metadata": {},
   "outputs": [],
   "source": []
  },
  {
   "attachments": {},
   "cell_type": "markdown",
   "metadata": {},
   "source": [
    "### Requirements"
   ]
  },
  {
   "cell_type": "code",
   "execution_count": null,
   "metadata": {},
   "outputs": [],
   "source": [
    "! pip install selenium"
   ]
  },
  {
   "attachments": {},
   "cell_type": "markdown",
   "metadata": {},
   "source": [
    "### Bibliotecas"
   ]
  },
  {
   "cell_type": "code",
   "execution_count": null,
   "metadata": {},
   "outputs": [],
   "source": [
    "from selenium import webdriver\n"
   ]
  },
  {
   "attachments": {},
   "cell_type": "markdown",
   "metadata": {},
   "source": [
    "### Web-Driver\n",
    "Lembre-se de colocar o path do executavel do driver"
   ]
  },
  {
   "cell_type": "code",
   "execution_count": null,
   "metadata": {},
   "outputs": [],
   "source": [
    "driver = webdriver.Chrome(executable_path=\"\")"
   ]
  },
  {
   "attachments": {},
   "cell_type": "markdown",
   "metadata": {},
   "source": []
  },
  {
   "attachments": {},
   "cell_type": "markdown",
   "metadata": {},
   "source": [
    "### Setup do Teste\n"
   ]
  },
  {
   "cell_type": "code",
   "execution_count": null,
   "metadata": {},
   "outputs": [],
   "source": [
    "Oraculo_dicionario = {}"
   ]
  },
  {
   "attachments": {},
   "cell_type": "markdown",
   "metadata": {},
   "source": [
    "## Casos de Teste"
   ]
  },
  {
   "attachments": {},
   "cell_type": "markdown",
   "metadata": {},
   "source": [
    "### Caso 1 - Login\n",
    "1) abrir browser\n",
    "2) abrir url\n",
    "3) preencher Username e Senha\n",
    "4) apertar login\n",
    "5) inspecionar se o título da página está correto\n",
    "6) fechar browser\n"
   ]
  },
  {
   "cell_type": "code",
   "execution_count": null,
   "metadata": {},
   "outputs": [],
   "source": []
  },
  {
   "attachments": {},
   "cell_type": "markdown",
   "metadata": {},
   "source": [
    "### Caso 2 - teste de credenciais invalidas"
   ]
  },
  {
   "cell_type": "code",
   "execution_count": null,
   "metadata": {},
   "outputs": [],
   "source": []
  }
 ],
 "metadata": {
  "kernelspec": {
   "display_name": "Python 3",
   "language": "python",
   "name": "python3"
  },
  "language_info": {
   "codemirror_mode": {
    "name": "ipython",
    "version": 3
   },
   "file_extension": ".py",
   "mimetype": "text/x-python",
   "name": "python",
   "nbconvert_exporter": "python",
   "pygments_lexer": "ipython3",
   "version": "3.11.1"
  },
  "orig_nbformat": 4
 },
 "nbformat": 4,
 "nbformat_minor": 2
}

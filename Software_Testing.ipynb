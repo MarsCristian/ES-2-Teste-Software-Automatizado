{
 "cells": [
  {
   "attachments": {},
   "cell_type": "markdown",
   "metadata": {},
   "source": [
    "# Teste do Software de um formulário em um site"
   ]
  },
  {
   "attachments": {},
   "cell_type": "markdown",
   "metadata": {},
   "source": [
    "## Planejamento\n",
    "- risco: baixo, risco de insersao de tuplas no BD\n",
    "- recursos: selenium webdriver, python notebook, oraculo\n",
    "- ambiente: ipynb, github, chrome, website: https://itera-qa.azurewebsites.net/home/automation\n",
    "- criterio de parada: o codigo passar em todos os testes, nao havendo tuplas problemáticas\n",
    "- resultados esperados: esperamos, como relatado da equipe de desenvolvimento, problemas da verificação do formulário\n",
    "    \n"
   ]
  },
  {
   "cell_type": "code",
   "execution_count": 1,
   "metadata": {},
   "outputs": [],
   "source": [
    "from selenium import webdriver #para abrir navegador\n",
    "from selenium.webdriver.common.by import By #para buscar elementos html por ID\n",
    "from selenium.webdriver.support.ui import WebDriverWait #para esperar a conexao\n",
    "from selenium.webdriver.support import expected_conditions as EC #para verificar possiveis erros no front\n",
    "import time #sleep\n",
    "\n",
    "_url_site = 'https://itera-qa.azurewebsites.net/home/automation'\n",
    "\n",
    "_request = {\n",
    "    'nome':'',\n",
    "    'numero':'',\n",
    "    'email':'',\n",
    "    'senha':'',\n",
    "    'endereco':''\n",
    "}"
   ]
  },
  {
   "attachments": {},
   "cell_type": "markdown",
   "metadata": {},
   "source": [
    "## Projeto de casos de teste\n",
    "- definir cenários: cenário de erros na insercao e cenário de tentativa de invasão de conta, no formulário\n",
    "- implementar teste: será implementado em python, notebook, usando web-driver e salvando os resultados em csvs com o pandas\n",
    "- priorizar casos: priorizar casos de tentativa de invasão\n"
   ]
  },
  {
   "attachments": {},
   "cell_type": "markdown",
   "metadata": {},
   "source": [
    "### Tuplas que podem dar problemas\n",
    "Seguindo como o Software deve ser implementado os requisitos relacionados a este formulário são:\n",
    "- nome: 2 a 25 caracteres, letras e acentuacao permitido\n",
    "- telefone: permitidos seguintes estruturas (xx)xxxxx-xxxx, xxxxxxxxxxx\n",
    "- email: 8 a 25 caracteres xx@xx.xx\n",
    "- senha: 4 a 25 caracteres contendo pelo menos 1 numero 1 caractere especial 1 uppercase\n",
    "- endereco: 4 a 60 caracteres\n",
    "\n",
    "Criando funcoes que sao capazes de cherar casos de testes aleatorios"
   ]
  },
  {
   "cell_type": "code",
   "execution_count": 2,
   "metadata": {},
   "outputs": [],
   "source": [
    "#gerar tuplas que podem dar problema\n",
    "import re\n",
    "import os\n",
    "import string\n",
    "import random\n",
    "\n",
    "#baseado nos testes do Professor Paulo Matias\n",
    "def random_letters(n):\n",
    "    res = b''\n",
    "    while len(res) < n: \n",
    "        res += re.sub(br'[^a-z]', b'', os.urandom(512))\n",
    "    return str(res[:n])[2:-1]\n",
    "\n",
    "def random_numbers(length):\n",
    "    digits = string.digits\n",
    "    return ''.join(random.choice(digits) for _ in range(length))\n",
    "\n",
    "def random_special_characters_string(length):\n",
    "    special_characters = string.punctuation\n",
    "    return ''.join(random.choice(special_characters) for _ in range(length))\n",
    "\n",
    "def gerar_tupla_consistente():\n",
    "    _request['nome'] = random_letters(random.randint(2,25))\n",
    "    _request['numero'] = '('+random_numbers(2)+')'+random_numbers(5)+'-'+random_numbers(4)\n",
    "    _request['email'] = random_letters(random.randint(2,10))+'@'+random_letters(random.randint(2,10))+'.'+random_letters(3)\n",
    "    _request['senha'] = random_letters(random.randint(1,10))+random_numbers(random.randint(1,10))+random_special_characters_string(random.randint(1,5))\n",
    "    _request['endereco'] = random_letters(random.randint(4,60))\n",
    "\n",
    "def gerar_tupla_inconsistente():\n",
    "    \n",
    "    _request['nome'] = random.choice([random_letters(random.choice([26,1])),random_numbers(10),random_special_characters_string(10)])\n",
    "    _request['numero'] = random.choice([random_letters(9),random_special_characters_string(9),random_numbers(random.choice([8,10]))])\n",
    "    _request['email'] = random_letters(random.randint(2,10))+'.'+random_letters(random.randint(2,10))+'@'+random_letters(3)\n",
    "    _request['senha'] = random_numbers(random.randint(1,10))+random_special_characters_string(random.randint(1,5))\n",
    "    _request['endereco'] = random_letters(61)\n",
    "\n"
   ]
  },
  {
   "cell_type": "code",
   "execution_count": 3,
   "metadata": {},
   "outputs": [],
   "source": [
    "\n",
    "import Back_End_Simulator as BE\n",
    "\n",
    "\n",
    "\n",
    "def Teste_De_Formulario():\n",
    "\n",
    "    validador = BE.Validador()\n",
    "    # Configuração do WebDriver\n",
    "    driver = webdriver.Chrome()  # Certifique-se de ter o ChromeDriver configurado e no PATH\n",
    "    driver.get(_url_site)\n",
    "\n",
    "    try:\n",
    "        # Preencher o campo Name\n",
    "        \n",
    "        name_field = WebDriverWait(driver, 10).until(EC.presence_of_element_located((By.ID, 'name')))\n",
    "        \n",
    "        name_field.send_keys(_request['nome'])\n",
    "\n",
    "        #Preencher o campo Mobile number\n",
    "        mobile_field = WebDriverWait(driver, 10).until(EC.presence_of_element_located((By.ID, 'phone')))\n",
    "        mobile_field.send_keys(_request['numero'])\n",
    "\n",
    "        # Preencher o campo Email address\n",
    "        email_field = WebDriverWait(driver, 10).until(EC.presence_of_element_located((By.ID, 'email')))\n",
    "        email_field.send_keys( _request['email'])\n",
    "\n",
    "        # Preencher o campo Password\n",
    "        password_field = WebDriverWait(driver, 10).until(EC.presence_of_element_located((By.ID, 'password')))\n",
    "        password_field.send_keys(_request['senha'])\n",
    "\n",
    "        # Preencher o campo Address\n",
    "        address_field = WebDriverWait(driver, 10).until(EC.presence_of_element_located((By.ID, 'address')))\n",
    "        address_field.send_keys(_request['endereco'])\n",
    "\n",
    "        # Clicar no botão Submit\n",
    "        submit_button = WebDriverWait(driver, 10).until(EC.element_to_be_clickable((By.CSS_SELECTOR, 'button[type=\"submit\"]')))\n",
    "        time.sleep(0.01)\n",
    "        submit_button.click()\n",
    "\n",
    "        print('Formulário preenchido e enviado com sucesso!')\n",
    "        response = validador.validar_request(_request)\n",
    "        \n",
    "        return False,'',response\n",
    "\n",
    "    except Exception as e:\n",
    "        print('Ocorreu um erro durante o preenchimento do formulário:', str(e))\n",
    "\n",
    "        return False,'Entrada Inconsistente',response\n",
    "\n",
    "    finally:\n",
    "        driver.quit()  # Fechar o navegador após a conclusão do teste\n"
   ]
  },
  {
   "attachments": {},
   "cell_type": "markdown",
   "metadata": {},
   "source": [
    "\n",
    "## Configuração de ambiente\n",
    "- teste do ambiente e ferramentas: configurar todas as ferramentas que serão usadas e deixar claro como usa-las\n"
   ]
  },
  {
   "cell_type": "code",
   "execution_count": 4,
   "metadata": {},
   "outputs": [],
   "source": [
    "#certificar de usar o webdriver do chrome\n",
    "#coloca-lo no path\n",
    "#rodar todos os codigos acima, devem estar sem erros"
   ]
  },
  {
   "attachments": {},
   "cell_type": "markdown",
   "metadata": {},
   "source": [
    "\n",
    "## Execução e Avaliação\n",
    "- executar teste:\n",
    "- avaliar teste:\n"
   ]
  },
  {
   "attachments": {},
   "cell_type": "markdown",
   "metadata": {},
   "source": [
    "### Teste com entradas corretas e consistentes"
   ]
  },
  {
   "cell_type": "code",
   "execution_count": 5,
   "metadata": {},
   "outputs": [],
   "source": [
    "#testar o codigo\n",
    "def classificar_respostas():\n",
    "    resultado,resposta,lista_erro = Teste_De_Formulario()\n",
    "    print(resposta)\n",
    "\n",
    "    dict_erro = {}\n",
    "    for i in range(0, len(lista_erro), 2):\n",
    "        chave = lista_erro[i]\n",
    "        valor = lista_erro[i + 1]\n",
    "        dict_erro[chave] = valor\n",
    "    #nesse caso o oraculo eh que todos devem ser positivos, sem inconsistencias\n",
    "    if not resultado:\n",
    "        print('Falhou no teste!')\n",
    "        print(dict_erro)\n",
    "\n",
    "    return dict_erro"
   ]
  },
  {
   "cell_type": "code",
   "execution_count": 6,
   "metadata": {},
   "outputs": [
    {
     "name": "stdout",
     "output_type": "stream",
     "text": [
      "Formulário preenchido e enviado com sucesso!\n",
      "Há dados invalidos!:\n",
      "['numero:', '(46)91686-0464']\n",
      "\n",
      "Falhou no teste!\n",
      "{'numero:': '(46)91686-0464'}\n"
     ]
    },
    {
     "data": {
      "text/plain": [
       "{'numero:': '(46)91686-0464'}"
      ]
     },
     "execution_count": 6,
     "metadata": {},
     "output_type": "execute_result"
    }
   ],
   "source": [
    "#gerar entradas\n",
    "gerar_tupla_consistente()\n",
    "#testar\n",
    "classificar_respostas()"
   ]
  },
  {
   "cell_type": "code",
   "execution_count": 7,
   "metadata": {},
   "outputs": [
    {
     "name": "stdout",
     "output_type": "stream",
     "text": [
      "Formulário preenchido e enviado com sucesso!\n",
      "Ocorreu um erro durante o preenchimento do formulário: 'bool' object is not subscriptable\n"
     ]
    },
    {
     "ename": "UnboundLocalError",
     "evalue": "cannot access local variable 'response' where it is not associated with a value",
     "output_type": "error",
     "traceback": [
      "\u001b[1;31m---------------------------------------------------------------------------\u001b[0m",
      "\u001b[1;31mTypeError\u001b[0m                                 Traceback (most recent call last)",
      "Cell \u001b[1;32mIn[3], line 41\u001b[0m, in \u001b[0;36mTeste_De_Formulario\u001b[1;34m()\u001b[0m\n\u001b[0;32m     40\u001b[0m \u001b[39mprint\u001b[39m(\u001b[39m'\u001b[39m\u001b[39mFormulário preenchido e enviado com sucesso!\u001b[39m\u001b[39m'\u001b[39m)\n\u001b[1;32m---> 41\u001b[0m response \u001b[39m=\u001b[39m validador\u001b[39m.\u001b[39;49mvalidar_request(_request)\n\u001b[0;32m     43\u001b[0m \u001b[39mreturn\u001b[39;00m \u001b[39mFalse\u001b[39;00m,\u001b[39m'\u001b[39m\u001b[39m'\u001b[39m,response\n",
      "File \u001b[1;32mc:\\Users\\crist\\Documents\\GitHub\\ES-2-Teste-Software-Automatizado\\Back_End_Simulator.py:59\u001b[0m, in \u001b[0;36mValidador.validar_request\u001b[1;34m(self, request)\u001b[0m\n\u001b[0;32m     57\u001b[0m \u001b[39mself\u001b[39m\u001b[39m.\u001b[39mvalidar_senha(request[\u001b[39m'\u001b[39m\u001b[39msenha\u001b[39m\u001b[39m'\u001b[39m])\n\u001b[1;32m---> 59\u001b[0m \u001b[39mif\u001b[39;00m  \u001b[39mself\u001b[39;49m\u001b[39m.\u001b[39;49mvnome[\u001b[39m0\u001b[39;49m] \u001b[39mand\u001b[39;00m \u001b[39mself\u001b[39m\u001b[39m.\u001b[39mvemail[\u001b[39m0\u001b[39m] \u001b[39mand\u001b[39;00m \u001b[39mself\u001b[39m\u001b[39m.\u001b[39mvnumero[\u001b[39m0\u001b[39m] \u001b[39mand\u001b[39;00m \u001b[39mself\u001b[39m\u001b[39m.\u001b[39mvendereco[\u001b[39m0\u001b[39m] \u001b[39mand\u001b[39;00m \u001b[39mself\u001b[39m\u001b[39m.\u001b[39mvsenha[\u001b[39m0\u001b[39m]:\n\u001b[0;32m     60\u001b[0m     response \u001b[39m=\u001b[39m \u001b[39m\"\u001b[39m\u001b[39mDados Válidos, enviando ao Banco de Dados...\u001b[39m\u001b[39m\"\u001b[39m\n",
      "\u001b[1;31mTypeError\u001b[0m: 'bool' object is not subscriptable",
      "\nDuring handling of the above exception, another exception occurred:\n",
      "\u001b[1;31mUnboundLocalError\u001b[0m                         Traceback (most recent call last)",
      "Cell \u001b[1;32mIn[7], line 4\u001b[0m\n\u001b[0;32m      2\u001b[0m gerar_tupla_inconsistente()\n\u001b[0;32m      3\u001b[0m \u001b[39m#testar\u001b[39;00m\n\u001b[1;32m----> 4\u001b[0m classificar_respostas()\n",
      "Cell \u001b[1;32mIn[5], line 3\u001b[0m, in \u001b[0;36mclassificar_respostas\u001b[1;34m()\u001b[0m\n\u001b[0;32m      2\u001b[0m \u001b[39mdef\u001b[39;00m \u001b[39mclassificar_respostas\u001b[39m():\n\u001b[1;32m----> 3\u001b[0m     resultado,resposta,lista_erro \u001b[39m=\u001b[39m Teste_De_Formulario()\n\u001b[0;32m      4\u001b[0m     \u001b[39mprint\u001b[39m(resposta)\n\u001b[0;32m      6\u001b[0m     dict_erro \u001b[39m=\u001b[39m {}\n",
      "Cell \u001b[1;32mIn[3], line 48\u001b[0m, in \u001b[0;36mTeste_De_Formulario\u001b[1;34m()\u001b[0m\n\u001b[0;32m     45\u001b[0m \u001b[39mexcept\u001b[39;00m \u001b[39mException\u001b[39;00m \u001b[39mas\u001b[39;00m e:\n\u001b[0;32m     46\u001b[0m     \u001b[39mprint\u001b[39m(\u001b[39m'\u001b[39m\u001b[39mOcorreu um erro durante o preenchimento do formulário:\u001b[39m\u001b[39m'\u001b[39m, \u001b[39mstr\u001b[39m(e))\n\u001b[1;32m---> 48\u001b[0m     \u001b[39mreturn\u001b[39;00m \u001b[39mFalse\u001b[39;00m,\u001b[39m'\u001b[39m\u001b[39mEntrada Inconsistente\u001b[39m\u001b[39m'\u001b[39m,response\n\u001b[0;32m     50\u001b[0m \u001b[39mfinally\u001b[39;00m:\n\u001b[0;32m     51\u001b[0m     driver\u001b[39m.\u001b[39mquit()\n",
      "\u001b[1;31mUnboundLocalError\u001b[0m: cannot access local variable 'response' where it is not associated with a value"
     ]
    }
   ],
   "source": [
    "\n",
    "#quebrar os dados para que todos sejam inconsistentes\n",
    "gerar_tupla_inconsistente()\n",
    "#testar\n",
    "classificar_respostas()\n"
   ]
  },
  {
   "cell_type": "code",
   "execution_count": 8,
   "metadata": {},
   "outputs": [
    {
     "name": "stdout",
     "output_type": "stream",
     "text": [
      "Formulário preenchido e enviado com sucesso!\n",
      "Há dados invalidos!:\n",
      "['numero:', '(59)78574-1852']\n",
      "\n",
      "Falhou no teste!\n",
      "{'numero:': '(59)78574-1852'}\n",
      "-----------------------------\n",
      "\n",
      "Formulário preenchido e enviado com sucesso!\n",
      "Há dados invalidos!:\n",
      "['nome:', '9721877680', 'email:', 'pdmeuscnyd.bgahnqd@tbg', 'numero:', '{.%:<|^_|', 'endereco:', 'owwgtzqgujqktigplolyeguvwudsoknuuofhlkebsecmzdznskwjtwvfcrpth']\n",
      "\n",
      "Falhou no teste!\n",
      "{'nome:': '9721877680', 'email:': 'pdmeuscnyd.bgahnqd@tbg', 'numero:': '{.%:<|^_|', 'endereco:': 'owwgtzqgujqktigplolyeguvwudsoknuuofhlkebsecmzdznskwjtwvfcrpth'}\n",
      "-----------------------------\n",
      "\n",
      "Formulário preenchido e enviado com sucesso!\n",
      "Ocorreu um erro durante o preenchimento do formulário: 'bool' object is not subscriptable\n",
      "erro durante o teste\n",
      "-----------------------------\n",
      "\n",
      "Total de Erros:\n",
      "nome:2\n",
      "email:2\n",
      "numero:3\n",
      "senha:0\n",
      "endereco:2\n"
     ]
    }
   ],
   "source": [
    "erro_nome     = 0\n",
    "erro_email    = 0\n",
    "erro_numero   = 0\n",
    "erro_senha    = 0\n",
    "erro_endereco = 0\n",
    "\n",
    "#bateria de testes\n",
    "for i in range(1,4):\n",
    "    if i<=1:\n",
    "        gerar_tupla_consistente()\n",
    "    else:\n",
    "        gerar_tupla_inconsistente()\n",
    "\n",
    "    try: \n",
    "        erros = classificar_respostas()\n",
    "    except:\n",
    "        print('erro durante o teste')\n",
    "\n",
    "    if 'nome:' in erros:\n",
    "        erro_nome += 1\n",
    "\n",
    "    if 'email:'in erros:\n",
    "        erro_email+= 1\n",
    "\n",
    "    if 'numero:'in erros:\n",
    "        erro_numero+=1\n",
    "\n",
    "    if 'senha:'in erros:\n",
    "        erro_senha+=1\n",
    "\n",
    "    if 'endereco:'in erros:\n",
    "        erro_endereco+= 1\n",
    "\n",
    "    print('-----------------------------')\n",
    "    print('')\n",
    "\n",
    "print('Total de Erros:')\n",
    "print('nome:'+str(erro_nome))\n",
    "print('email:'+str(erro_email))\n",
    "print('numero:'+str(erro_numero))\n",
    "print('senha:'+str(erro_senha))\n",
    "print('endereco:'+str(erro_endereco))"
   ]
  },
  {
   "attachments": {},
   "cell_type": "markdown",
   "metadata": {},
   "source": [
    "\n",
    "## Monitoramento e Controle\n",
    "- checar status:\n",
    "- verificar novos possíveis testes:\n",
    "- verificar se corrigiram o que estava errado:"
   ]
  },
  {
   "cell_type": "code",
   "execution_count": 17,
   "metadata": {},
   "outputs": [],
   "source": [
    "#evitar bots\n",
    "#validar codigo no front\n",
    "#corrigir erro no telefone no caso consistente\n",
    "#corrigir erro na senha no caso inconsistente\n",
    "#sanitizar entradas para o banco de dados\n",
    "#garantir seguranca das senhas\n",
    "#refatorar codigo de teste para ser mais maduro e consistente"
   ]
  }
 ],
 "metadata": {
  "kernelspec": {
   "display_name": "Python 3",
   "language": "python",
   "name": "python3"
  },
  "language_info": {
   "codemirror_mode": {
    "name": "ipython",
    "version": 3
   },
   "file_extension": ".py",
   "mimetype": "text/x-python",
   "name": "python",
   "nbconvert_exporter": "python",
   "pygments_lexer": "ipython3",
   "version": "3.11.1"
  },
  "orig_nbformat": 4
 },
 "nbformat": 4,
 "nbformat_minor": 2
}
